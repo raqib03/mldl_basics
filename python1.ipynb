{
 "cells": [
  {
   "cell_type": "markdown",
   "id": "7b6b26a7",
   "metadata": {
    "papermill": {
     "duration": 0.003615,
     "end_time": "2024-10-15T15:39:57.476892",
     "exception": false,
     "start_time": "2024-10-15T15:39:57.473277",
     "status": "completed"
    },
    "tags": []
   },
   "source": [
    "# Variable"
   ]
  },
  {
   "cell_type": "code",
   "execution_count": 1,
   "id": "1eba706b",
   "metadata": {
    "execution": {
     "iopub.execute_input": "2024-10-15T15:39:57.485643Z",
     "iopub.status.busy": "2024-10-15T15:39:57.485178Z",
     "iopub.status.idle": "2024-10-15T15:39:57.497350Z",
     "shell.execute_reply": "2024-10-15T15:39:57.496336Z"
    },
    "papermill": {
     "duration": 0.019599,
     "end_time": "2024-10-15T15:39:57.499969",
     "exception": false,
     "start_time": "2024-10-15T15:39:57.480370",
     "status": "completed"
    },
    "tags": []
   },
   "outputs": [],
   "source": [
    "a = 1\n",
    "b = 1.0\n",
    "c = 'text'"
   ]
  },
  {
   "cell_type": "code",
   "execution_count": 2,
   "id": "58ec4ba4",
   "metadata": {
    "execution": {
     "iopub.execute_input": "2024-10-15T15:39:57.508014Z",
     "iopub.status.busy": "2024-10-15T15:39:57.507510Z",
     "iopub.status.idle": "2024-10-15T15:39:57.513622Z",
     "shell.execute_reply": "2024-10-15T15:39:57.512390Z"
    },
    "papermill": {
     "duration": 0.013357,
     "end_time": "2024-10-15T15:39:57.516536",
     "exception": false,
     "start_time": "2024-10-15T15:39:57.503179",
     "status": "completed"
    },
    "tags": []
   },
   "outputs": [
    {
     "name": "stdout",
     "output_type": "stream",
     "text": [
      "a: 1\n",
      "b: 1.0\n",
      "c: text\n"
     ]
    }
   ],
   "source": [
    "print(f\"a: {a}\")\n",
    "print(f\"b: {b}\")\n",
    "print(f\"c: {c}\")"
   ]
  },
  {
   "cell_type": "markdown",
   "id": "dcb05cc7",
   "metadata": {
    "papermill": {
     "duration": 0.002971,
     "end_time": "2024-10-15T15:39:57.522804",
     "exception": false,
     "start_time": "2024-10-15T15:39:57.519833",
     "status": "completed"
    },
    "tags": []
   },
   "source": [
    "## 2 types of Variables\n",
    "1. Local Variable\n",
    "2. Global Variable"
   ]
  },
  {
   "cell_type": "markdown",
   "id": "2c077460",
   "metadata": {
    "papermill": {
     "duration": 0.003109,
     "end_time": "2024-10-15T15:39:57.529096",
     "exception": false,
     "start_time": "2024-10-15T15:39:57.525987",
     "status": "completed"
    },
    "tags": []
   },
   "source": [
    "### Local Variable"
   ]
  },
  {
   "cell_type": "code",
   "execution_count": 3,
   "id": "aa9cac65",
   "metadata": {
    "execution": {
     "iopub.execute_input": "2024-10-15T15:39:57.538513Z",
     "iopub.status.busy": "2024-10-15T15:39:57.538058Z",
     "iopub.status.idle": "2024-10-15T15:39:57.545749Z",
     "shell.execute_reply": "2024-10-15T15:39:57.544673Z"
    },
    "papermill": {
     "duration": 0.014935,
     "end_time": "2024-10-15T15:39:57.548398",
     "exception": false,
     "start_time": "2024-10-15T15:39:57.533463",
     "status": "completed"
    },
    "tags": []
   },
   "outputs": [
    {
     "name": "stdout",
     "output_type": "stream",
     "text": [
      "Error with m: name 'm' is not defined\n",
      "Error with n: name 'n' is not defined\n"
     ]
    }
   ],
   "source": [
    "def local_var_m():\n",
    "    m = 1\n",
    "    return m  # Return m from the function\n",
    "\n",
    "def local_var_n():\n",
    "    n = 2\n",
    "    return n  # Return n from the function\n",
    "\n",
    "try:\n",
    "    print(m)  # Call the print function to get the value of m\n",
    "except NameError as e:\n",
    "    print(f\"Error with m: {e}\")\n",
    "\n",
    "try:\n",
    "    print(n)  # Call the print function to get the value of n\n",
    "except NameError as e:\n",
    "    print(f\"Error with n: {e}\")\n"
   ]
  },
  {
   "cell_type": "markdown",
   "id": "7f9c4c67",
   "metadata": {
    "papermill": {
     "duration": 0.003009,
     "end_time": "2024-10-15T15:39:57.554843",
     "exception": false,
     "start_time": "2024-10-15T15:39:57.551834",
     "status": "completed"
    },
    "tags": []
   },
   "source": [
    "Here this code gives us error, because the `'m'` is a local variable, and which is accessed inside only the function named *`local_var_m()`*\n",
    "But call the `print(m)` in the global environment. So that is why the `'m'` is not accessible here."
   ]
  }
 ],
 "metadata": {
  "kaggle": {
   "accelerator": "none",
   "dataSources": [],
   "dockerImageVersionId": 30786,
   "isGpuEnabled": false,
   "isInternetEnabled": true,
   "language": "python",
   "sourceType": "notebook"
  },
  "kernelspec": {
   "display_name": "Python 3",
   "language": "python",
   "name": "python3"
  },
  "language_info": {
   "codemirror_mode": {
    "name": "ipython",
    "version": 3
   },
   "file_extension": ".py",
   "mimetype": "text/x-python",
   "name": "python",
   "nbconvert_exporter": "python",
   "pygments_lexer": "ipython3",
   "version": "3.10.14"
  },
  "papermill": {
   "default_parameters": {},
   "duration": 3.570747,
   "end_time": "2024-10-15T15:39:57.978979",
   "environment_variables": {},
   "exception": null,
   "input_path": "__notebook__.ipynb",
   "output_path": "__notebook__.ipynb",
   "parameters": {},
   "start_time": "2024-10-15T15:39:54.408232",
   "version": "2.6.0"
  }
 },
 "nbformat": 4,
 "nbformat_minor": 5
}
